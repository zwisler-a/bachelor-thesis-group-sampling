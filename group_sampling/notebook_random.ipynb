{
 "cells": [
  {
   "cell_type": "code",
   "execution_count": null,
   "metadata": {
    "pycharm": {
     "name": "#%%\n"
    }
   },
   "outputs": [],
   "source": [
    "import numpy as np\n",
    "import pandas\n",
    "\n",
    "from graphing.sampling_graphs import create_sample_distribution_graph_groupings, create_grouping_influence_graph, create_sample_distribution_graph\n",
    "from learning.grouped_learning import Berta\n",
    "from learning.grouped_linear_regression import Gustav\n",
    "from model.datasets import Datasets, SynDataset\n",
    "from model.synth_data_factory import SyntheticDataBuilder\n",
    "from sampling.from_tests_sampler import FromTestsSamplingStrategy\n",
    "from sampling.group_sampling.hamming_group_sampling_strategy import HammingGroupSamplingStrategy\n",
    "from sampling.random_sampling.better_random_sampling_strategy import BetterRandomSamplingStrategy\n",
    "from sampling.sampler import Sampler\n",
    "from testing.grouped_tester import GroupedTester\n",
    "from testing.grouped_tester_flipping import GroupedTesterSigns\n",
    "from testing.tester import Tester\n",
    "from util.util import get_samples_with_results, get_regression_metricts, make_df_representation\n",
    "from sampling.group_sampling.mutex_aware_group_sampling_strategy import MutexAwareGroupSamplingStrategy\n",
    "from util.util import get_samples_with_results_full\n",
    "\n",
    "from sklearn import linear_model\n",
    "pandas.set_option(\"display.max_columns\", None)\n",
    "%load_ext autoreload\n",
    "%autoreload 2"
   ]
  },
  {
   "cell_type": "markdown",
   "source": [
    "# Data Generation"
   ],
   "metadata": {
    "collapsed": false
   }
  },
  {
   "cell_type": "code",
   "execution_count": null,
   "metadata": {
    "pycharm": {
     "name": "#%%\n"
    }
   },
   "outputs": [],
   "source": [
    "data_builder = SyntheticDataBuilder(\n",
    "    parameters=10,\n",
    "    influential_parameters=1,\n",
    "    mutex_groups=[],\n",
    "    mutex_required=[],\n",
    "    constrains=0,\n",
    "    interactions=1\n",
    ")\n",
    "data_builder.print_overview()\n",
    "influential_params = [i - 1 for i in data_builder.influential_features]\n",
    "vm, test_strategy = data_builder.get_vm(), data_builder.get_testing_strategy()\n",
    "vm, test_strategy = Datasets().get_dataset('javagc')\n"
   ]
  },
  {
   "cell_type": "code",
   "execution_count": null,
   "outputs": [],
   "source": [
    "tester = Tester(test_strategy)\n",
    "sampler_test = Sampler(FromTestsSamplingStrategy(vm, test_strategy))\n",
    "#sampler_test = Sampler(BetterRandomSamplingStrategy(vm))\n",
    "\n",
    "x_test, y_test, samples_test = get_samples_with_results_full(sampler_test, tester, 100)\n",
    "create_sample_distribution_graph(samples_test, vm)"
   ],
   "metadata": {
    "collapsed": false,
    "pycharm": {
     "name": "#%%\n"
    }
   }
  },
  {
   "cell_type": "markdown",
   "source": [
    "# Sampling"
   ],
   "metadata": {
    "collapsed": false
   }
  },
  {
   "cell_type": "code",
   "execution_count": null,
   "metadata": {
    "pycharm": {
     "name": "#%%\n"
    }
   },
   "outputs": [],
   "source": [
    "sampler = Sampler(BetterRandomSamplingStrategy(vm))\n",
    "x, y, samples = get_samples_with_results_full(sampler_test, tester, 100)\n",
    "#display((make_df_representation(x, y)))sampler.reset()\n",
    "create_sample_distribution_graph(samples, vm)"
   ]
  },
  {
   "cell_type": "code",
   "execution_count": null,
   "outputs": [],
   "source": [
    "clf = linear_model.LinearRegression()\n",
    "clf.fit(x, y)\n",
    "y_predicted = clf.predict(x_test)\n",
    "metrics = get_regression_metricts(y_test, y_predicted)\n",
    "\n",
    "print(metrics)"
   ],
   "metadata": {
    "collapsed": false,
    "pycharm": {
     "name": "#%%\n"
    }
   }
  },
  {
   "cell_type": "code",
   "execution_count": null,
   "outputs": [],
   "source": [
    "coef = pandas.DataFrame( clf.coef_)\n",
    "ax = coef.plot.bar()\n",
    "ax.set_xticklabels(vm.get_features())\n",
    "print(clf.intercept_)"
   ],
   "metadata": {
    "collapsed": false,
    "pycharm": {
     "name": "#%%\n"
    }
   }
  },
  {
   "cell_type": "code",
   "execution_count": null,
   "outputs": [],
   "source": [
    "df = pandas.read_csv('./resources/javagc_measurements.csv', delimiter=\";\")\n",
    "display(df)\n",
    "df['performance'] = df['performance'] / 30\n",
    "df[['performance','NewRatio_32','SurvivorRatio_1']][5000:8000].plot()"
   ],
   "metadata": {
    "collapsed": false,
    "pycharm": {
     "name": "#%%\n"
    }
   }
  },
  {
   "cell_type": "code",
   "execution_count": null,
   "outputs": [],
   "source": [],
   "metadata": {
    "collapsed": false,
    "pycharm": {
     "name": "#%%\n"
    }
   }
  }
 ],
 "metadata": {
  "kernelspec": {
   "display_name": "Python 3 (ipykernel)",
   "language": "python",
   "name": "python3"
  },
  "language_info": {
   "codemirror_mode": {
    "name": "ipython",
    "version": 3
   },
   "file_extension": ".py",
   "mimetype": "text/x-python",
   "name": "python",
   "nbconvert_exporter": "python",
   "pygments_lexer": "ipython3",
   "version": "3.8.10"
  }
 },
 "nbformat": 4,
 "nbformat_minor": 1
}