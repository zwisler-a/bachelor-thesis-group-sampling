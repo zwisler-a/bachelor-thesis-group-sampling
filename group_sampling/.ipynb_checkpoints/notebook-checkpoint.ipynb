{
 "cells": [
  {
   "cell_type": "code",
   "execution_count": 37,
   "metadata": {
    "pycharm": {
     "name": "#%%\n"
    }
   },
   "outputs": [],
   "source": [
    "from graphing.sampling_graphs import create_sample_distribution_graph_groupings\n",
    "from learning.grouped_linear_regression import Gustav\n",
    "from model.datasets import Datasets\n",
    "from sampling.group_sampling.hamming_group_sampling_strategy import HammingGroupSamplingStrategy\n",
    "from sampling.random_sampling.better_random_sampling_strategy import BetterRandomSamplingStrategy\n",
    "from sampling.sampler import Sampler\n",
    "from testing.grouped_tester import GroupedTester\n",
    "from testing.tester import Tester\n",
    "from util.util import get_samples_with_results, get_regression_metricts\n",
    "from sampling.group_sampling.mutex_aware_group_sampling_strategy import MutexAwareGroupSamplingStrategy\n",
    "from util.util import get_samples_with_results_full\n",
    "\n",
    "%load_ext autoreload\n",
    "%autoreload 2"
   ]
  },
  {
   "cell_type": "code",
   "execution_count": 5,
   "metadata": {
    "pycharm": {
     "name": "#%%\n"
    }
   },
   "outputs": [],
   "source": [
    "vm, test_strategy = Datasets().get_dataset('syn-20-simple')\n",
    "\n",
    "sampler = Sampler(BetterRandomSamplingStrategy(vm))\n",
    "tester = Tester(test_strategy)\n",
    "x_test, y_test = get_samples_with_results(sampler, tester, 10)"
   ]
  },
  {
   "cell_type": "code",
   "execution_count": 6,
   "metadata": {
    "pycharm": {
     "name": "#%%\n"
    }
   },
   "outputs": [
    {
     "name": "stdout",
     "output_type": "stream",
     "text": [
      "No generated graph specified ... generating mutex graph\n",
      "Start processing ...\n",
      " Time 0.8048615455627441\n",
      "\n",
      "VM Information: -----------------------------------------\n",
      "Mutexes: []\n",
      "Optional features: {'Parameter_20', 'Parameter_15', 'Parameter_12', 'Parameter_11', 'Parameter_2', 'Parameter_8', 'Parameter_16', 'Parameter_14', 'Parameter_10', 'Parameter_4', 'Parameter_9', 'Parameter_5', 'Parameter_19', 'Parameter_7', 'Parameter_3', 'Parameter_13', 'Parameter_6', 'Parameter_18', 'Parameter_17'}\n",
      "Independent features: {'Parameter_20', 'Parameter_15', 'Parameter_12', 'Parameter_11', 'Parameter_5', 'Parameter_2', 'Parameter_8', 'Parameter_16', 'Parameter_19', 'Parameter_7', 'Parameter_3', 'Parameter_14', 'Parameter_10', 'Parameter_4', 'Parameter_13', 'Parameter_6', 'Parameter_18', 'Parameter_17', 'Parameter_9'}\n",
      "---------------------------------------------------------\n"
     ]
    }
   ],
   "source": [
    "strategy = MutexAwareGroupSamplingStrategy(vm, group_size=2)"
   ]
  },
  {
   "cell_type": "code",
   "execution_count": 25,
   "metadata": {
    "pycharm": {
     "name": "#%%\n"
    }
   },
   "outputs": [],
   "source": [
    "grouped_sampler = Sampler(strategy)\n",
    "grouped_tester = GroupedTester(test_strategy)\n",
    "grouped_sampler.reset()\n",
    "x, y, samples = get_samples_with_results_full(grouped_sampler, grouped_tester, 5)"
   ]
  },
  {
   "cell_type": "code",
   "execution_count": 44,
   "metadata": {
    "pycharm": {
     "name": "#%%\n"
    }
   },
   "outputs": [
    {
     "name": "stdout",
     "output_type": "stream",
     "text": [
      "[[1, 0.5, 1, 1, 0, 1, 1, 1, 0, 0, 1, 1, 0, 0, 0, 0, 0, 0, 0, 1], [1, 0.5, 0, 0, 1, 0, 0, 0, 1, 1, 0, 0, 0, 1, 1, 1, 1, 1, 1, 0], [1, 0.5, 0, 0, 1, 0, 1, 1, 0, 1, 0, 0, 1, 1, 0, 0, 0, 1, 1, 1], [1, 0.5, 1, 1, 0, 1, 0, 0, 1, 0, 1, 1, 1, 0, 0, 1, 1, 0, 0, 0], [1, 0.5, 0, 0, 0, 0, 0, 1, 1, 0, 0, 1, 1, 0, 1, 0, 0, 1, 1, 1], [1, 0.5, 1, 1, 1, 1, 1, 0, 0, 1, 0, 0, 0, 0, 1, 1, 1, 0, 0, 0], [1, 0.5, 0, 0, 0, 0, 0, 1, 0, 0, 1, 0, 1, 1, 1, 0, 1, 1, 0, 1], [1, 0.5, 0, 0, 1, 1, 1, 0, 0, 1, 0, 1, 0, 1, 0, 1, 0, 0, 1, 0], [1, 0.5, 1, 1, 0, 0, 0, 1, 1, 0, 1, 0, 0, 0, 1, 0, 1, 1, 0, 1], [1, 0.5, 0, 1, 1, 1, 1, 0, 1, 0, 1, 0, 1, 1, 0, 1, 0, 0, 0, 0]]\n"
     ]
    },
    {
     "data": {
      "image/png": "[encoded data removed]",
      "text/plain": [
       "<Figure size 720x720 with 1 Axes>"
      ]
     },
     "metadata": {
      "needs_background": "light"
     },
     "output_type": "display_data"
    }
   ],
   "source": [
    "create_sample_distribution_graph_groupings(samples, vm, ['Parameter_2'])"
   ]
  },
  {
   "cell_type": "code",
   "execution_count": 27,
   "metadata": {
    "pycharm": {
     "name": "#%%\n"
    }
   },
   "outputs": [],
   "source": [
    "\n",
    "g = Gustav(vm, 2)\n",
    "g.fit(x, y)\n",
    "model = g.combine_models()\n",
    "y_predicted = model.predict(x_test)\n"
   ]
  },
  {
   "cell_type": "code",
   "execution_count": 28,
   "metadata": {
    "pycharm": {
     "name": "#%%\n"
    }
   },
   "outputs": [
    {
     "name": "stdout",
     "output_type": "stream",
     "text": [
      "[56.03741245067941, 48.915822086171126, 51.64525420207643, 49.26476459678638, 53.96897861568071]\n",
      "[137.0243267097355, 140.40562168759888, 135.06855255030976, 136.96230358016433, 140.58892740562132]\n",
      "[0 1 2 3 4] ['G0', 'G1', 'G2', 'G3', 'G4']\n"
     ]
    },
    {
     "data": {
      "image/png": "[encoded data removed]",
      "text/plain": [
       "<Figure size 432x288 with 1 Axes>"
      ]
     },
     "metadata": {
      "needs_background": "light"
     },
     "output_type": "display_data"
    }
   ],
   "source": [
    "import matplotlib.pyplot as plt\n",
    "import numpy as np\n",
    "\n",
    "labels = [f'G{i}' for i in range(len(x))]\n",
    "\n",
    "# the label locations\n",
    "width = 0.35  # the width of the bars\n",
    "\n",
    "x = np.arange(len(labels))\n",
    "fig, ax = plt.subplots()\n",
    "size = 2\n",
    "for group_idx in range(size):\n",
    "    group = [grouping[group_idx] for grouping in y]\n",
    "    print(group)\n",
    "    rect = ax.bar(x + width * group_idx, group, width, label=f'G{group_idx}')\n",
    "    ax.bar_label(rect, padding=3)\n",
    "\n",
    "print(x, labels)\n",
    "\n",
    "ax.set_xticks(x)\n",
    "ax.set_xticklabels(labels)\n",
    "ax.legend()\n",
    "\n",
    "fig.tight_layout()\n",
    "\n",
    "plt.show()"
   ]
  },
  {
   "cell_type": "code",
   "execution_count": null,
   "metadata": {
    "pycharm": {
     "name": "#%%\n"
    }
   },
   "outputs": [],
   "source": [
    "metrics = get_regression_metricts(y_test, y_predicted)\n",
    "\n",
    "print(metrics)"
   ]
  },
  {
   "cell_type": "code",
   "execution_count": null,
   "metadata": {
    "pycharm": {
     "name": "#%%\n"
    }
   },
   "outputs": [],
   "source": []
  },
  {
   "cell_type": "code",
   "execution_count": null,
   "metadata": {
    "pycharm": {
     "name": "#%%\n"
    }
   },
   "outputs": [],
   "source": []
  }
 ],
 "metadata": {
  "kernelspec": {
   "display_name": "Python 3 (ipykernel)",
   "language": "python",
   "name": "python3"
  },
  "language_info": {
   "codemirror_mode": {
    "name": "ipython",
    "version": 3
   },
   "file_extension": ".py",
   "mimetype": "text/x-python",
   "name": "python",
   "nbconvert_exporter": "python",
   "pygments_lexer": "ipython3",
   "version": "3.8.10"
  }
 },
 "nbformat": 4,
 "nbformat_minor": 1
}
