{
 "cells": [
  {
   "cell_type": "code",
   "execution_count": null,
   "metadata": {
    "pycharm": {
     "name": "#%%\n"
    }
   },
   "outputs": [],
   "source": [
    "import numpy as np\n",
    "import pandas\n",
    "\n",
    "from graphing.sampling_graphs import create_sample_distribution_graph_groupings, create_grouping_influence_graph, create_sample_distribution_graph\n",
    "from learning.grouped_learning import Berta\n",
    "from learning.grouped_linear_regression import Gustav\n",
    "from model.datasets import Datasets, SynDataset\n",
    "from model.synth_data_factory import SyntheticDataBuilder\n",
    "from sampling.from_tests_sampler import FromTestsSamplingStrategy\n",
    "from sampling.group_sampling.hamming_group_sampling_strategy import HammingGroupSamplingStrategy\n",
    "from sampling.random_sampling.better_random_sampling_strategy import BetterRandomSamplingStrategy\n",
    "from sampling.random_sampling.distance_sampling_strategy import DistanceSamplingStrategy\n",
    "from sampling.sampler import Sampler\n",
    "from testing.grouped_tester import GroupedTester\n",
    "from testing.grouped_tester_flipping import GroupedTesterSigns\n",
    "from testing.tester import Tester\n",
    "from util.util import get_samples_with_results, get_regression_metricts, make_df_representation\n",
    "from sampling.group_sampling.mutex_aware_group_sampling_strategy import IndependentFeatureGroupSamplingStrategy\n",
    "from util.util import get_samples_with_results_full\n",
    "import logging\n",
    "\n",
    "numba_logger = logging.getLogger('numba')\n",
    "numba_logger.setLevel(logging.WARNING)\n",
    "pandas.set_option(\"display.max_columns\", None)\n",
    "%load_ext autoreload\n",
    "%autoreload 2"
   ]
  },
  {
   "cell_type": "markdown",
   "source": [
    "# Data Generation"
   ],
   "metadata": {
    "collapsed": false
   }
  },
  {
   "cell_type": "code",
   "execution_count": null,
   "metadata": {
    "pycharm": {
     "name": "#%%\n"
    }
   },
   "outputs": [],
   "source": [
    "data_builder = SyntheticDataBuilder(\n",
    "    parameters=10,\n",
    "    influential_parameters=1,\n",
    "    mutex_groups=[],\n",
    "    mutex_required=[],\n",
    "    constrains=0,\n",
    "    interactions=0\n",
    ")\n",
    "data_builder.print_overview()\n",
    "influential_params = [i - 1 for i in data_builder.influential_features]\n",
    "vm, test_strategy = data_builder.get_vm(), data_builder.get_testing_strategy()\n",
    "# vm, test_strategy = Datasets().get_dataset('javagc')\n"
   ]
  },
  {
   "cell_type": "code",
   "execution_count": null,
   "outputs": [],
   "source": [
    "sampler = Sampler(DistanceSamplingStrategy(vm))\n",
    "logging.getLogger().setLevel(logging.DEBUG)\n",
    "#sampler_test = Sampler(FromTestsSamplingStrategy(vm, test_strategy))\n",
    "sampler_test = Sampler(DistanceSamplingStrategy(vm))\n",
    "tester = Tester(test_strategy)\n",
    "x_test, y_test, samples_test = get_samples_with_results_full(sampler_test, tester, 100)\n",
    "create_sample_distribution_graph(samples_test, vm)"
   ],
   "metadata": {
    "collapsed": false,
    "pycharm": {
     "name": "#%%\n"
    }
   }
  },
  {
   "cell_type": "code",
   "execution_count": null,
   "metadata": {
    "pycharm": {
     "name": "#%%\n"
    }
   },
   "outputs": [],
   "source": [
    "group_size = 5\n",
    "strategy = IndependentFeatureGroupSamplingStrategy(vm, group_size=group_size) #, load_mutex=\"./result/tmp/syn-1000-pre.json\")"
   ]
  },
  {
   "cell_type": "code",
   "execution_count": null,
   "outputs": [],
   "source": [
    "\n",
    "grouped_sampler = Sampler(strategy)\n",
    "grouped_tester = GroupedTester(test_strategy)\n",
    "logging.getLogger().setLevel(logging.DEBUG)\n",
    "grouped_sampler.reset()\n",
    "\n",
    "x, y, samples = get_samples_with_results_full(grouped_sampler, grouped_tester, 5)\n",
    "print(x,y,samples)\n",
    "#display((make_df_representation(x, y)))\n",
    "create_sample_distribution_graph_groupings(samples, vm, [])"
   ],
   "metadata": {
    "collapsed": false,
    "pycharm": {
     "name": "#%%\n"
    }
   }
  },
  {
   "cell_type": "code",
   "execution_count": null,
   "outputs": [],
   "source": [
    "df = make_df_representation(x, y)\n",
    "df = df[df.index % group_size == 0]\n",
    "from scipy.spatial.distance import pdist, squareform\n",
    "\n",
    "distances = pdist(df.values, metric='hamming')\n",
    "dist_matrix = squareform(distances)\n",
    "display(pandas.DataFrame(dist_matrix))"
   ],
   "metadata": {
    "collapsed": false,
    "pycharm": {
     "name": "#%%\n"
    }
   }
  },
  {
   "cell_type": "code",
   "execution_count": null,
   "outputs": [],
   "source": [
    "create_grouping_influence_graph(x, y, group_size)"
   ],
   "metadata": {
    "collapsed": false,
    "pycharm": {
     "name": "#%%\n"
    }
   }
  },
  {
   "cell_type": "code",
   "execution_count": null,
   "outputs": [],
   "source": [
    "from learning.grouped_learning_with import Soeren\n",
    "\n",
    "berta = Soeren(vm, group_size)\n",
    "logging.getLogger().setLevel(logging.DEBUG)\n",
    "berta.fit(x, y)\n",
    "co = pandas.DataFrame(berta.model.coef_)\n",
    "ax = co.transpose().plot.bar()\n",
    "# ax.set_xticklabels(vm.get_features())\n",
    "y_predicted = berta.predict(x_test)\n",
    "metrics = get_regression_metricts(y_test, y_predicted)\n",
    "comp = pandas.DataFrame()\n",
    "comp['Test'] = y_test[:50]\n",
    "comp['Predicted'] = y_predicted[:50]\n",
    "#comp.plot.bar()\n",
    "#display(comp)\n",
    "print(metrics)"
   ],
   "metadata": {
    "collapsed": false,
    "pycharm": {
     "name": "#%%\n"
    }
   }
  },
  {
   "cell_type": "code",
   "execution_count": null,
   "outputs": [],
   "source": [
    "berta = Berta(vm, group_size)\n",
    "logging.getLogger().setLevel(logging.DEBUG)\n",
    "berta.fit(x, y)\n",
    "co = pandas.DataFrame(berta.model.coef_)\n",
    "ax = co.transpose().plot.bar()\n",
    "# ax.set_xticklabels(vm.get_features())\n",
    "y_predicted = berta.predict(x_test)\n",
    "metrics = get_regression_metricts(y_test, y_predicted)\n",
    "comp = pandas.DataFrame()\n",
    "comp['Test'] = y_test[:50]\n",
    "comp['Predicted'] = y_predicted[:50]\n",
    "#comp.plot.bar()\n",
    "#display(comp)\n",
    "print(metrics)"
   ],
   "metadata": {
    "collapsed": false,
    "pycharm": {
     "name": "#%%\n"
    }
   }
  },
  {
   "cell_type": "code",
   "execution_count": null,
   "outputs": [],
   "source": [],
   "metadata": {
    "collapsed": false,
    "pycharm": {
     "name": "#%%\n"
    }
   }
  }
 ],
 "metadata": {
  "kernelspec": {
   "display_name": "Python 3 (ipykernel)",
   "language": "python",
   "name": "python3"
  },
  "language_info": {
   "codemirror_mode": {
    "name": "ipython",
    "version": 3
   },
   "file_extension": ".py",
   "mimetype": "text/x-python",
   "name": "python",
   "nbconvert_exporter": "python",
   "pygments_lexer": "ipython3",
   "version": "3.8.10"
  }
 },
 "nbformat": 4,
 "nbformat_minor": 1
}