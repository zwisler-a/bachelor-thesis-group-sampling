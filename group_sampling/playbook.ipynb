{
 "cells": [
  {
   "cell_type": "code",
   "execution_count": null,
   "outputs": [],
   "source": [
    "import itertools\n",
    "import re\n",
    "import glob\n",
    "import pandas\n",
    "import numpy as np\n",
    "\n",
    "MAPE = '3'\n",
    "MAE = '0'\n",
    "MSE = '1'\n",
    "R2 = '2'\n",
    "\n",
    "\n",
    "def load_group_sampling(system, folder, metric, method=\"mutex\", min_gs=0, max_gs=1000):\n",
    "    # method = \"mutex\"\n",
    "    result_files = glob.glob(f\"./result/{folder}/{system}_groupsize_*_method_{method}_*.csv\")\n",
    "    print(f\"found {len(result_files)}\")\n",
    "    group_sizes_data_dict = {}\n",
    "    # Add all iterations to one dataframe for each group size\n",
    "    for g in [f for f in result_files if \"model\" not in f]:\n",
    "        [group_size, iteration] = re.findall(r\".*?_(\\d+)\", g.replace(folder, ''))\n",
    "        result_data = pandas.read_csv(g)\n",
    "\n",
    "        if group_size not in group_sizes_data_dict:\n",
    "            group_sizes_data_dict[group_size] = pandas.DataFrame()\n",
    "        if metric in result_data and min_gs <= int(group_size) < max_gs:\n",
    "            r = result_data[metric].repeat(int(group_size))\n",
    "            r.index = range(len(r))\n",
    "            group_sizes_data_dict[group_size] = pandas.concat([group_sizes_data_dict[group_size], r], axis=1)\n",
    "\n",
    "    # Average each iteration\n",
    "    averaged_group_size_data = pandas.DataFrame()\n",
    "    for group_size, group_size_data in group_sizes_data_dict.items():\n",
    "        # print(group_size, group_size_data.columns)\n",
    "        group_size_data = group_size_data.mean(1)\n",
    "        group_size_data.name = int(group_size)\n",
    "        averaged_group_size_data = pandas.concat([averaged_group_size_data, group_size_data], axis=1)\n",
    "\n",
    "    averaged_group_size_data.index += 1\n",
    "    averaged_group_size_data.sort_index(axis=1, inplace=True)\n",
    "    averaged_group_size_data.dropna(axis=1, how='all', inplace=True)\n",
    "    return averaged_group_size_data\n",
    "\n",
    "\n",
    "def load(sys, folder, metric):\n",
    "    data = glob.glob(f\"./result/{folder}/{sys}_*.csv\")\n",
    "    frame = pandas.DataFrame()\n",
    "    for g in data:\n",
    "        [it] = re.findall(r\".*?_(\\d+)\", g.replace(folder, ''))\n",
    "        frame[it] = pandas.read_csv(g)[[metric]]\n",
    "    mean = frame.mean(1)\n",
    "    mean.index += 1\n",
    "    return mean"
   ],
   "metadata": {
    "collapsed": false,
    "pycharm": {
     "name": "#%%\n"
    }
   }
  },
  {
   "cell_type": "markdown",
   "source": [
    "Simple Graph for linear regression"
   ],
   "metadata": {
    "collapsed": false
   }
  },
  {
   "cell_type": "code",
   "execution_count": null,
   "outputs": [],
   "source": [
    "folder = \"test_case_1\"\n",
    "\n",
    "data = pandas.DataFrame()\n",
    "data['Apache'] = load('apache', folder, MAPE)\n",
    "data['BerkeleyDB'] = load('berkley', folder, MAPE)\n",
    "data['PostgreSQL'] = load('postgre', folder, MAPE)\n",
    "#data['JavaGC'] = load('javagc', '3')\n",
    "data.index += 1\n",
    "ax = data.plot()\n",
    "ax.set_xlabel(\"Sample size\")\n",
    "ax.set_ylabel(\"MAPE\")"
   ],
   "metadata": {
    "collapsed": false,
    "pycharm": {
     "name": "#%%\n"
    }
   }
  },
  {
   "cell_type": "markdown",
   "source": [
    "Group sampling Graph - Multiple Sample sizes"
   ],
   "metadata": {
    "collapsed": false
   }
  },
  {
   "cell_type": "code",
   "execution_count": null,
   "outputs": [],
   "source": [
    "folder = \"real_world\"\n",
    "folder_rs = \"test_case_1\"\n",
    "sys = 'javagc'\n",
    "#rds = load(sys + \"_distance\", folder_rs, MAPE)\n",
    "gs = load_group_sampling(sys, folder, MAPE, 'mutex')\n",
    "data = pandas.DataFrame()\n",
    "for i in np.arange(2, 6, 1):\n",
    "    data[f'Group sampling ({i})'] = gs[i][:20]\n",
    "ax = data.plot()\n",
    "ax.set_ylabel(\"MAPE\")\n",
    "ax.set_xlabel(\"Sample size\")\n",
    "ax.legend(loc=\"upper right\")\n",
    "ax.set_title('JavaGC - Independent features')"
   ],
   "metadata": {
    "collapsed": false,
    "pycharm": {
     "name": "#%%\n"
    }
   }
  },
  {
   "cell_type": "code",
   "execution_count": null,
   "outputs": [],
   "source": [
    "\n",
    "def create_graph(averaged_group_size_data, title):\n",
    "    ax = averaged_group_size_data.plot()\n",
    "    ax.set_title(title)\n",
    "    ax.legend(loc='upper right')\n",
    "    ax.set_xlabel(\"Sample size\")\n",
    "    ax.set_ylabel(\"MAPE\")\n",
    "    return ax\n",
    "\n",
    "\n",
    "folder = \"syn\"\n",
    "used_metric = MAPE\n",
    "display(create_graph(load_group_sampling(\"syn-1000-pre\", folder, used_metric, \"mutex\", 2, 5),\n",
    "                     \"BerkeleyDB - Independent features\"));"
   ],
   "metadata": {
    "collapsed": false,
    "pycharm": {
     "name": "#%%\n"
    }
   }
  },
  {
   "cell_type": "code",
   "execution_count": null,
   "outputs": [],
   "source": [
    "from matplotlib import pyplot as plt\n",
    "import glob\n",
    "from model.datasets import Datasets\n",
    "import pandas\n",
    "import re\n",
    "\n",
    "\n",
    "def convert_model(file):\n",
    "    csv = pandas.read_csv(file)\n",
    "    df = pandas.DataFrame()\n",
    "    curr = {}\n",
    "    for index, row in csv.iterrows():\n",
    "        if int(row[0]) in curr:\n",
    "            df = df.append(curr, ignore_index=True)\n",
    "            curr = {}\n",
    "        else:\n",
    "            curr[int(row[0])] = row['0']\n",
    "    df = df.append(curr, ignore_index=True)\n",
    "    df.columns = [*df.columns[:-1], 'intercept']\n",
    "    return df\n",
    "\n",
    "\n",
    "def load_group_sampling_model(system, folder, group_size, sample_size, method=\"mutex\"):\n",
    "    # method = \"mutex\"\n",
    "    result_files = glob.glob(f\"./result/{folder}/{system}_groupsize_{group_size}_method_{method}_*_model.csv\")\n",
    "    print(f\"found {len(result_files)}\")\n",
    "    result = pandas.DataFrame()\n",
    "    # Add all iterations to one dataframe for each group size\n",
    "    for g in result_files:\n",
    "        [group_size, iteration] = re.findall(r\".*?_(\\d+)\", g.replace(folder, ''))\n",
    "        result_data = convert_model(g)\n",
    "        if result_data.shape[0] > sample_size:\n",
    "            result = result.append(result_data.iloc[sample_size])\n",
    "        else:\n",
    "            print(group_size, iteration, sample_size)\n",
    "\n",
    "    return result\n",
    "\n",
    "\n",
    "def load_model(system, folder, sample_size, method=\"_distance\"):\n",
    "    # method = \"mutex\"\n",
    "    result_files = glob.glob(f\"./result/{folder}/{system}{method}_*_model.csv\")\n",
    "    print(f\"found {len(result_files)}\")\n",
    "    result = pandas.DataFrame()\n",
    "    # Add all iterations to one dataframe for each group size\n",
    "    for g in result_files:\n",
    "        stuff = re.findall(r\".*?_(\\d+)\", g.replace(folder, ''))\n",
    "        result_data = convert_model(g)\n",
    "        if result_data.shape[0] > sample_size:\n",
    "            result = result.append(result_data.iloc[sample_size])\n",
    "        else:\n",
    "            print(stuff, sample_size)\n",
    "\n",
    "    return result\n",
    "\n",
    "\n",
    "def create_box_plot_gs(dataset, gs, ss, with_interpect=False, folder='real_world'):\n",
    "    vm, t = Datasets().get_dataset(dataset)\n",
    "    df = load_group_sampling_model(dataset, folder, gs, ss)\n",
    "    df.columns = [*vm.get_features(), 'Intercept']\n",
    "    df = df.iloc[:, 1:]\n",
    "    if not with_interpect:\n",
    "        df = df.iloc[:, :-1]\n",
    "    ax = df.plot.box(figsize=(15,5))\n",
    "    ax.set_xticklabels(df.columns, rotation=90)\n",
    "    return ax\n",
    "\n",
    "\n",
    "def create_box_plot(dataset, ss, with_interpect=False, folder='test_case_1'):\n",
    "    vm, t = Datasets().get_dataset(dataset)\n",
    "    df = load_model(f\"{dataset}\", folder, ss)\n",
    "    df.columns = [*vm.get_features(), 'Intercept']\n",
    "    df = df.iloc[:, 1:]\n",
    "    if not with_interpect:\n",
    "        df = df.iloc[:, :-1]\n",
    "    ax = df.plot.box(figsize=(15,5))\n",
    "    ax.set_xticklabels(df.columns, rotation=90)\n",
    "    return ax\n",
    "\n",
    "\n",
    "sys = \"apache\"\n",
    "ss = 4\n",
    "gs = 2\n",
    "\n",
    "create_box_plot_gs(sys, gs, ss, False, 'real_world')\n",
    "plt.title(f\"Apache Coefficients - Group sampling - Groups: {gs}, Samples {ss}\")\n",
    "plt.ylim(-140, 50)\n",
    "create_box_plot(f\"{sys}\", gs * ss)\n",
    "plt.title(f\"Apache Coefficients - Random sampling - Samples {ss*gs}\")\n",
    "plt.ylim(-140, 50)\n",
    "\n",
    "\n",
    "#load_group_sampling_model('apache', 'real_world')\n",
    "#convert_model(f\"./result/real_world/apache_groupsize_3_method_mutex_0_model.csv\").plot.box()"
   ],
   "metadata": {
    "collapsed": false,
    "pycharm": {
     "name": "#%%\n"
    }
   }
  },
  {
   "cell_type": "code",
   "execution_count": null,
   "outputs": [],
   "source": [
    "import itertools\n",
    "\n",
    "\n",
    "def make_interactions_map(start):\n",
    "    res = {}\n",
    "    cnt = start + 1\n",
    "    for i, j in itertools.combinations(range(1,start), 2):\n",
    "        res[cnt] = (i, j)\n",
    "        cnt += 1\n",
    "    print(cnt)\n",
    "    return res\n",
    "\n",
    "\n",
    "def make_interactions_values(start, interactions):\n",
    "    v = []\n",
    "    idx = []\n",
    "    cnt = start\n",
    "    print(interactions)\n",
    "    interactions = [{n[0] - 1, n[1] - 1} for n in interactions]\n",
    "    print(interactions)\n",
    "    for i, j in itertools.combinations(range(1,start), 2):\n",
    "        if {i, j} in interactions:\n",
    "            v.append(100)\n",
    "            idx.append(cnt)\n",
    "            print('yay')\n",
    "        else:\n",
    "            v.append(0)\n",
    "            idx.append(cnt)\n",
    "        cnt += 1\n",
    "    return pandas.Series(v, index=idx)\n"
   ],
   "metadata": {
    "collapsed": false,
    "pycharm": {
     "name": "#%%\n"
    }
   }
  },
  {
   "cell_type": "code",
   "execution_count": null,
   "outputs": [],
   "source": [
    "gs = 3\n",
    "ss = 2\n",
    "ds = 'syn-100-pre'\n",
    "vm, t = Datasets().get_dataset(ds)\n",
    "real = pandas.Series(t.weights)\n",
    "#mm = make_interactions_values(len(vm.get_features()), t.interactions)\n",
    "#real = real.append(mm)\n",
    "real = real.append(pandas.Series([200], index=['intercept']))\n",
    "a = load_group_sampling_model(ds, 'syn', gs, ss)\n",
    "b = load_model('syn-100-pre', 'test_case_1', gs * ss)\n",
    "df = pandas.DataFrame([\n",
    "    real,\n",
    "    a.mean(),\n",
    "    b.mean(),\n",
    "]).transpose()\n",
    "df = df.iloc[:-1]\n",
    "#m = make_interactions_map(len(vm.get_features()))\n",
    "#df.index = [m.get(i, i) for i in df.index]\n",
    "df.columns = ['True value', 'Group sampling', 'Random sampling']\n",
    "df.sort_values(by=['True value'], ascending=False, inplace=True)\n",
    "df.sort_values(by=['Group sampling'], ascending=False, inplace=True)\n",
    "df.sort_values(by=['Random sampling'], ascending=False, inplace=True)\n",
    "df = df.iloc[[0, 1, 2, 3, 4, -5, -4, -3, -2, -1]]\n",
    "df.plot.bar()\n",
    "plt.suptitle(\"Model coefficients - SYN-100\")\n",
    "plt.title(f\"Groups: {gs}, Samples: {ss}\")\n",
    "plt.xlabel(\"Feature / Interaction\")\n",
    "plt.ylabel(\"Coefficient\")"
   ],
   "metadata": {
    "collapsed": false,
    "pycharm": {
     "name": "#%%\n"
    }
   }
  },
  {
   "cell_type": "code",
   "execution_count": null,
   "outputs": [],
   "source": [
    "gs = 3\n",
    "ss = 4\n",
    "\n",
    "vm, t = Datasets().get_dataset('syn-100-pre')\n",
    "real = pandas.Series(t.weights)\n",
    "real = real.append(pandas.Series([200], index=['intercept']))[5]\n",
    "display(real)\n",
    "df = pandas.DataFrame([real])\n",
    "cols = ['True value']\n",
    "for gs in [2, 3, 4, 5]:\n",
    "    for ss in range(1, 20 // gs):\n",
    "        a = load_group_sampling_model('syn-100-pre', 'syn', gs, ss)[5]\n",
    "        b = load_model('syn-100-pre', 'test_case_1', gs * ss)[5]\n",
    "        df = df.append({'a': a.mean(), 'b': b.mean()}, ignore_index=True)\n",
    "        cols.append(gs * ss)\n",
    "\n",
    "display(df)"
   ],
   "metadata": {
    "collapsed": false,
    "pycharm": {
     "name": "#%%\n"
    }
   }
  },
  {
   "cell_type": "code",
   "execution_count": null,
   "outputs": [],
   "source": [
    "df2 = df.copy()\n",
    "\n",
    "df2 = df2.iloc[1:, 1:]\n",
    "df2.index = cols[1:]\n",
    "df2 = df2[~df2.index.duplicated(keep='first')]\n",
    "df2 = df2.sort_index()\n",
    "df2.loc[18, 'a'] = 48.3\n",
    "display(df2)\n",
    "df2 = df2.transpose()\n",
    "#df2 = df2.iloc[:-1]\n",
    "display(df2)\n",
    "df2 = df2.transpose()\n",
    "df2.columns = ['Group Sampling', 'Random Sampling']\n",
    "#df2.sort_index(inplace=True)\n",
    "df2.plot.bar()\n",
    "plt.axhline(y=real, color='r', linestyle='dotted')\n",
    "plt.title(f\"Model coefficients - SYN-100 - Influential Feature\")\n",
    "plt.legend(loc='upper right')\n",
    "plt.xlabel(\"Sample Size\")\n",
    "plt.ylabel(\"Coefficient\")\n"
   ],
   "metadata": {
    "collapsed": false,
    "pycharm": {
     "name": "#%%\n"
    }
   }
  },
  {
   "cell_type": "code",
   "execution_count": null,
   "outputs": [],
   "source": [
    "from statsmodels.stats.outliers_influence import variance_inflation_factor\n",
    "from statsmodels.tools.tools import add_constant\n",
    "\n",
    "r = pandas.read_csv('./resources/PostgreSQL_pervolution_bin_measurements.csv', delimiter=\";\")\n",
    "r = r[r['revision'] == '8.3.0']\n",
    "print(r)\n",
    "r.drop(['revision', 'performance', 'cpu'], axis=1, inplace=True)\n",
    "X = add_constant(r)\n",
    "pandas.Series([variance_inflation_factor(X.values, i)\n",
    "               for i in range(X.shape[1])],\n",
    "              index=X.columns)"
   ],
   "metadata": {
    "collapsed": false,
    "pycharm": {
     "name": "#%%\n"
    }
   }
  },
  {
   "cell_type": "code",
   "execution_count": null,
   "outputs": [],
   "source": [
    "from scipy import interpolate\n",
    "import math\n",
    "import matplotlib.pyplot as plt\n",
    "import numpy as np\n",
    "import scipy.special\n",
    "from scipy.interpolate import make_interp_spline, BSpline, UnivariateSpline\n",
    "\n",
    "from statsmodels.nonparametric.smoothers_lowess import lowess\n",
    "\n",
    "\n",
    "def calc(N, S, t):\n",
    "    a = scipy.special.comb(N, t)\n",
    "    b = ((1 / S) ** t)\n",
    "    c = (1 - (1 / S)) ** (N - t)\n",
    "    return a * b * c\n",
    "\n",
    "\n",
    "def pprop(x, groupings, group_sizes, feature_count):\n",
    "    return [1 - (1 - calc(groupings, group_sizes, t)) ** (feature_count - 1) for t in x]\n",
    "\n",
    "\n",
    "def prop(x, groupings, group_sizes):\n",
    "    return [calc(groupings, group_sizes, t) for t in x]\n",
    "\n",
    "\n",
    "print(calc(8, 16, 4))\n",
    "print(pprop([4], 8, 16, 1000))\n",
    "\n",
    "# \\binom{N}{t} \\left(\\frac{1}{S}\\right)^{t} \\left(\\frac{S-1}{S}\\right)^{N-t}\n",
    "\n",
    "\n",
    "fig = plt.figure()\n",
    "feature_count = 10\n",
    "groupings = 10\n",
    "t = np.arange(0, groupings, 0.05)\n",
    "for groups in [3, 4]:\n",
    "    plt.plot(t, pprop(\n",
    "        x=t,\n",
    "        groupings=groupings,\n",
    "        group_sizes=feature_count // groups,\n",
    "        feature_count=feature_count\n",
    "    ), label=f\"Groups: {groups} {(feature_count // groups)}\")\n",
    "\n",
    "#plt.plot(t, prop(t, 10, 2, 100), label=f\"y{i}\")\n",
    "#plt.plot(t, pprop(t, 10, 2, 100), label=f\"y{i}\")\n",
    "#plt.plot(t, prop(t, 50, 5, 100), label=\"y2\")\n",
    "#plt.plot(t, prop(t, 50, 6, 100), label=\"y3\")\n",
    "#plt.plot(t, prop(t, 50, 7, 100), label=\"y3\")\n",
    "plt.legend(loc='upper right')\n",
    "# Show the pl\n",
    "plt.show()"
   ],
   "metadata": {
    "collapsed": false,
    "pycharm": {
     "name": "#%%\n"
    }
   }
  },
  {
   "cell_type": "code",
   "execution_count": null,
   "outputs": [],
   "source": [
    "from numpy import sort\n",
    "import random\n",
    "import pandas\n",
    "\n",
    "a = []\n",
    "feature_count = 10\n",
    "groupings = 10\n",
    "groups = 5\n",
    "print(f\"{feature_count // groups}\")\n",
    "for j in range(groupings):\n",
    "    for i in range(groups):\n",
    "        a.append(random.sample(range(feature_count), feature_count // groups))\n",
    "\n",
    "d = {}\n",
    "for a in [sort(a) for a in a]:\n",
    "    if a[0] != 0:\n",
    "        continue\n",
    "    s = f\"{a[0]}_{a[1]}\"\n",
    "    if s in d:\n",
    "        d[s] = d[s] + 1\n",
    "    else:\n",
    "        d[s] = 1\n",
    "\n",
    "df = pandas.DataFrame(d, index=[0])\n",
    "df.sort_index(axis=1, inplace=True)\n",
    "df.plot.bar()"
   ],
   "metadata": {
    "collapsed": false,
    "pycharm": {
     "name": "#%%\n"
    }
   }
  },
  {
   "cell_type": "code",
   "execution_count": null,
   "outputs": [],
   "source": [
    "ds = 'syn-100-pre'\n",
    "mean = load_group_sampling_model(ds, \"syn\", 3, 6).mean()\n",
    "mean2 = load_model(ds, 'test_case_1',3*6).mean()\n",
    "vm, t = Datasets().get_dataset(ds)\n",
    "df = pandas.DataFrame()\n",
    "df['real'] = t.weights\n",
    "df['rsmean'] = mean2\n",
    "df['mean'] = mean\n",
    "df['diff'] = df['mean'] - df['real']\n",
    "df['diff2'] = df['rsmean'] - df['real']\n",
    "\n",
    "display(df.mean())\n",
    "display(df)"
   ],
   "metadata": {
    "collapsed": false,
    "pycharm": {
     "name": "#%%\n"
    }
   }
  }
 ],
 "metadata": {
  "kernelspec": {
   "display_name": "Python 3 (ipykernel)",
   "language": "python",
   "name": "python3"
  },
  "language_info": {
   "codemirror_mode": {
    "name": "ipython",
    "version": 3
   },
   "file_extension": ".py",
   "mimetype": "text/x-python",
   "name": "python",
   "nbconvert_exporter": "python",
   "pygments_lexer": "ipython3",
   "version": "3.8.10"
  }
 },
 "nbformat": 4,
 "nbformat_minor": 1
}